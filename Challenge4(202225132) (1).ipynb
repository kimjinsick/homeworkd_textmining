{
  "cells": [
    {
      "cell_type": "markdown",
      "metadata": {
        "id": "RqWbgHaFPZ7C"
      },
      "source": [
        "# 도전 문제\n",
        "- 도전문제의 목적은 ***1) 코드에 익숙해지는 것, 2) 앞으로 배울 내용에 쓰기 위함***입니다.\n",
        "- 도전 문제에서는 해당 내용들을 숙지한다면 추후 프로젝트에도 넓게 쓰일 수 있는 내용들을 다룰 것이며,\n",
        "- 이러한 내용들 말고도 기초적인 코딩테스트를 경험할 수 있는 간단한 문제들 위주로 출제할 예정입니다."
      ]
    },
    {
      "cell_type": "markdown",
      "metadata": {
        "id": "ZGbhwXR4PZ7F"
      },
      "source": [
        "---"
      ]
    },
    {
      "cell_type": "markdown",
      "metadata": {
        "id": "zua3ePguPZ7G"
      },
      "source": [
        "## 문제 1. 함수 만들기\n",
        "\n",
        "5의 거듭제곱인 수를 하나 이상 떠올린 다음에, 이러한 수들을 중복 없이 한 번씩만 더해서 어떤 수 x를 만들어 보자. 예를 들면 $5^0 + 5^2 + 5^3 = 151$ 과 같은 케이스가 이에 해당한다.\n",
        "\n",
        "요즘 NH는 이러한 수를 찾고 있다. 매개변수로 숫자 x가 주어질 때, 이것이 NH가 찾고 있는 수가 맞는지 판별해주는 함수 `sol`을 완성시키자.\n",
        "\n",
        "NH가 찾고 있는 수이면 `Yes`를, 아니면 `No`를 반환하라."
      ]
    },
    {
      "cell_type": "markdown",
      "metadata": {
        "id": "DH_t-X_YPZ7G"
      },
      "source": [
        "![challenge4.png](attachment:challenge4.png)"
      ]
    },
    {
      "cell_type": "code",
      "execution_count": null,
      "metadata": {
        "colab": {
          "base_uri": "https://localhost:8080/"
        },
        "id": "P-qFeTFTPZ7H",
        "outputId": "5ffc3f50-ed8b-4d7d-d216-a56cb768d7d9"
      },
      "outputs": [
        {
          "output_type": "stream",
          "name": "stdout",
          "text": [
            "Yes\n"
          ]
        }
      ],
      "source": [
        "# 문제에서 제시된 조건을 반영하는 함수 sol을 완성하세요.\n",
        "\n",
        "import itertools\n",
        "\n",
        "def generate_power_of_5(exponent):\n",
        "    power_of_5_numbers = []\n",
        "\n",
        "    for i in range(exponent + 1):\n",
        "        power_of_5 = 5 ** i\n",
        "        power_of_5_numbers.append(power_of_5)\n",
        "\n",
        "    return power_of_5_numbers\n",
        "\n",
        "def sol(x):\n",
        "    power_of_5_numbers = generate_power_of_5(x)\n",
        "\n",
        "    if x <= 0:\n",
        "        return \"No\"\n",
        "\n",
        "    for r in range(1, len(power_of_5_numbers) + 1):\n",
        "\n",
        "        combinations = itertools.combinations(power_of_5_numbers, r)\n",
        "\n",
        "        for combo in combinations:\n",
        "            if sum(combo) == x:\n",
        "                return \"Yes\"\n",
        "\n",
        "    return \"No\"\n",
        "\n",
        "\n",
        "target_number = 151\n",
        "result = sol(target_number)\n",
        "\n",
        "print(result)"
      ]
    },
    {
      "cell_type": "code",
      "execution_count": null,
      "metadata": {
        "colab": {
          "base_uri": "https://localhost:8080/",
          "height": 35
        },
        "id": "T4sfYd15PZ7H",
        "outputId": "56bb2808-cffa-4f3b-8028-2e56e340feb2"
      },
      "outputs": [
        {
          "output_type": "execute_result",
          "data": {
            "text/plain": [
              "'Yes'"
            ],
            "application/vnd.google.colaboratory.intrinsic+json": {
              "type": "string"
            }
          },
          "metadata": {},
          "execution_count": 2
        }
      ],
      "source": [
        "sol(151)"
      ]
    },
    {
      "cell_type": "code",
      "source": [
        "sol(1)"
      ],
      "metadata": {
        "colab": {
          "base_uri": "https://localhost:8080/",
          "height": 35
        },
        "id": "uqXesK2dQc5d",
        "outputId": "1cd43b11-daa3-449c-e0fb-668aec112cf5"
      },
      "execution_count": null,
      "outputs": [
        {
          "output_type": "execute_result",
          "data": {
            "text/plain": [
              "'Yes'"
            ],
            "application/vnd.google.colaboratory.intrinsic+json": {
              "type": "string"
            }
          },
          "metadata": {},
          "execution_count": 3
        }
      ]
    },
    {
      "cell_type": "code",
      "source": [
        "sol(10)"
      ],
      "metadata": {
        "colab": {
          "base_uri": "https://localhost:8080/",
          "height": 35
        },
        "id": "5b1DS46mQjct",
        "outputId": "ef12e291-7fd4-4bea-d98d-8c48120640be"
      },
      "execution_count": null,
      "outputs": [
        {
          "output_type": "execute_result",
          "data": {
            "text/plain": [
              "'No'"
            ],
            "application/vnd.google.colaboratory.intrinsic+json": {
              "type": "string"
            }
          },
          "metadata": {},
          "execution_count": 4
        }
      ]
    },
    {
      "cell_type": "code",
      "source": [],
      "metadata": {
        "id": "APGCmOndQvwV"
      },
      "execution_count": null,
      "outputs": []
    }
  ],
  "metadata": {
    "kernelspec": {
      "display_name": "Python 3 (ipykernel)",
      "language": "python",
      "name": "python3"
    },
    "language_info": {
      "codemirror_mode": {
        "name": "ipython",
        "version": 3
      },
      "file_extension": ".py",
      "mimetype": "text/x-python",
      "name": "python",
      "nbconvert_exporter": "python",
      "pygments_lexer": "ipython3",
      "version": "3.9.7"
    },
    "colab": {
      "provenance": []
    }
  },
  "nbformat": 4,
  "nbformat_minor": 0
}